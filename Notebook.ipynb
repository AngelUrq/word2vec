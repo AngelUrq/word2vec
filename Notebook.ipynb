{
 "cells": [
  {
   "cell_type": "code",
   "execution_count": 1,
   "metadata": {},
   "outputs": [
    {
     "name": "stdout",
     "output_type": "stream",
     "text": [
      "cuda\n"
     ]
    }
   ],
   "source": [
    "import torch\n",
    "import re\n",
    "import torch.nn.functional as F\n",
    "from torch import nn\n",
    "from torchtext.data.utils import get_tokenizer\n",
    "from torchtext.vocab import build_vocab_from_iterator\n",
    "from datasets import load_dataset\n",
    "\n",
    "device = torch.device(\"cuda\" if torch.cuda.is_available() else \"cpu\")\n",
    "print(device)"
   ]
  },
  {
   "cell_type": "code",
   "execution_count": null,
   "metadata": {},
   "outputs": [],
   "source": [
    "with open('data.txt', encoding='ISO-8859-1') as file:\n",
    "    full_text = file.read()\n",
    "\n",
    "full_text = full_text.replace('\\n', ' ')\n",
    "full_text = re.sub('[^A-Za-z0-9áéíóúñÁÉÍÓÚÑ]+', ' ', full_text)\n",
    "full_text = re.sub(' +', ' ', full_text)\n",
    "full_text = full_text.lower()\n",
    "\n",
    "print(f'Text has {len(full_text)} characters')\n",
    "\n",
    "full_text[:500]"
   ]
  },
  {
   "cell_type": "code",
   "execution_count": null,
   "metadata": {},
   "outputs": [],
   "source": [
    "context_window = 2\n",
    "\n",
    "tokens = tokenizer(full_text)\n",
    "\n",
    "X = []\n",
    "y = []\n",
    "\n",
    "for i, word in enumerate(tokens):\n",
    "    center = word\n",
    "\n",
    "    if i < context_window:\n",
    "        continue\n",
    "    elif i > len(tokens) - context_window - 1:\n",
    "        continue\n",
    "    else:\n",
    "        context = tokens[i - context_window:i] + tokens[i + 1:i + context_window + 1]\n",
    "\n",
    "    X.append(vocab([center]))\n",
    "    y.append(vocab(context))\n",
    "\n",
    "    if i == 513:\n",
    "        break\n",
    "\n",
    "print(f'Center: {center}, Context: {context} Context size {len(context)}')\n",
    "print(f'X length: {len(X)}, y length: {len(y)}')"
   ]
  },
  {
   "cell_type": "code",
   "execution_count": null,
   "metadata": {},
   "outputs": [],
   "source": [
    "X[0], y[0]"
   ]
  },
  {
   "cell_type": "code",
   "execution_count": 153,
   "metadata": {},
   "outputs": [],
   "source": [
    "from datasets import load_dataset\n",
    "\n",
    "class WordDataset(torch.utils.data.Dataset):\n",
    "    \n",
    "    def __init__(self, dataset_name, context_window):\n",
    "        self.dataset = load_dataset(dataset_name, split='train')[:100000]\n",
    "        self.text = ' '.join(self.dataset['text'])\n",
    "        self.tokenizer = get_tokenizer('basic_english')\n",
    "\n",
    "        self.vocab = build_vocab_from_iterator(map(self.tokenizer, self.dataset['text']), specials=['<unk>'])\n",
    "        self.vocab.set_default_index(self.vocab[\"<unk>\"])\n",
    "\n",
    "        self.context_window = context_window\n",
    "\n",
    "        print(f'Len of vocab {len(self.vocab)}')\n",
    "\n",
    "        tokens = self.tokenizer(self.text)\n",
    "\n",
    "        self.X = []\n",
    "        self.y = []\n",
    "\n",
    "        for i, word in enumerate(tokens):\n",
    "            center = word\n",
    "\n",
    "            if i < context_window:\n",
    "                continue\n",
    "            elif i > len(tokens) - context_window - 1:\n",
    "                continue\n",
    "            else:\n",
    "                context = tokens[i - context_window:i] + tokens[i + 1:i + context_window + 1]\n",
    "\n",
    "            self.X.append(self.vocab([center]))\n",
    "            self.y.append(self.vocab(context))\n",
    "\n",
    "        self.X = torch.tensor(self.X).long()\n",
    "        self.y = torch.tensor(self.y).long()\n",
    "\n",
    "    def __len__(self):\n",
    "        return len(self.X)\n",
    "\n",
    "    def __getitem__(self, idx):\n",
    "        return self.X[idx], self.y[idx]"
   ]
  },
  {
   "cell_type": "code",
   "execution_count": 161,
   "metadata": {},
   "outputs": [
    {
     "name": "stdout",
     "output_type": "stream",
     "text": [
      "Number of samples: 100000\n",
      "torch.Size([32]) torch.Size([32, 4, 93678])\n"
     ]
    }
   ],
   "source": []
  },
  {
   "cell_type": "code",
   "execution_count": 157,
   "metadata": {},
   "outputs": [],
   "source": [
    "class SkipGram(nn.Module):\n",
    "\n",
    "    def __init__(self, vocab_size, embedding_size):\n",
    "        super().__init__()\n",
    "        self.embedding = nn.Embedding(vocab_size, embedding_size)\n",
    "        self.output_layer = nn.Linear(embedding_size, vocab_size)\n",
    "\n",
    "    def forward(self, x):\n",
    "        embeddings = self.embedding(x)\n",
    "        output = self.output_layer(embeddings)\n",
    "\n",
    "        return output"
   ]
  },
  {
   "cell_type": "code",
   "execution_count": 173,
   "metadata": {},
   "outputs": [
    {
     "name": "stderr",
     "output_type": "stream",
     "text": [
      "Found cached dataset spanish_billion_words (C:/Users/angel/.cache/huggingface/datasets/spanish_billion_words/corpus/1.1.0/8ba50a854d61199f7d36b4c3f598589a2f8b493a2644b88ce80adb2cebcbc107)\n"
     ]
    },
    {
     "name": "stdout",
     "output_type": "stream",
     "text": [
      "Len of vocab 93678\n",
      "Number of samples: 100000\n"
     ]
    }
   ],
   "source": [
    "from torch.utils.data import DataLoader\n",
    "\n",
    "embedding_size = 100\n",
    "context_window = 2\n",
    "batch_size = 512\n",
    "\n",
    "word_dataset = WordDataset('spanish_billion_words', context_window)\n",
    "dataloader = DataLoader(word_dataset, batch_size=batch_size, shuffle=True)\n",
    "model = SkipGram(len(word_dataset.vocab), embedding_size).to(device)\n",
    "\n",
    "print(f'Number of samples: {len(word_dataset.dataset[\"text\"])}')\n",
    "\n",
    "loss_fn = nn.CrossEntropyLoss()\n",
    "optimizer = torch.optim.SGD(model.parameters(), lr=1e-3)"
   ]
  },
  {
   "cell_type": "code",
   "execution_count": 174,
   "metadata": {},
   "outputs": [
    {
     "name": "stdout",
     "output_type": "stream",
     "text": [
      "loss: 23781.445312  [  512/2340732]\n",
      "loss: 22739.154297  [ 5632/2340732]\n",
      "loss: 22029.044922  [10752/2340732]\n",
      "loss: 21435.507812  [15872/2340732]\n",
      "loss: 21068.396484  [20992/2340732]\n",
      "loss: 20772.292969  [26112/2340732]\n",
      "loss: 20204.427734  [31232/2340732]\n"
     ]
    },
    {
     "ename": "KeyboardInterrupt",
     "evalue": "",
     "output_type": "error",
     "traceback": [
      "\u001b[1;31m---------------------------------------------------------------------------\u001b[0m",
      "\u001b[1;31mKeyboardInterrupt\u001b[0m                         Traceback (most recent call last)",
      "\u001b[1;32mc:\\Users\\angel\\Source\\Python\\word2vec\\Notebook.ipynb Cell 9\u001b[0m in \u001b[0;36m<cell line: 1>\u001b[1;34m()\u001b[0m\n\u001b[0;32m     <a href='vscode-notebook-cell:/c%3A/Users/angel/Source/Python/word2vec/Notebook.ipynb#X40sZmlsZQ%3D%3D?line=13'>14</a>\u001b[0m \u001b[39m# Backpropagation\u001b[39;00m\n\u001b[0;32m     <a href='vscode-notebook-cell:/c%3A/Users/angel/Source/Python/word2vec/Notebook.ipynb#X40sZmlsZQ%3D%3D?line=14'>15</a>\u001b[0m optimizer\u001b[39m.\u001b[39mzero_grad()\n\u001b[1;32m---> <a href='vscode-notebook-cell:/c%3A/Users/angel/Source/Python/word2vec/Notebook.ipynb#X40sZmlsZQ%3D%3D?line=15'>16</a>\u001b[0m loss\u001b[39m.\u001b[39;49mbackward()\n\u001b[0;32m     <a href='vscode-notebook-cell:/c%3A/Users/angel/Source/Python/word2vec/Notebook.ipynb#X40sZmlsZQ%3D%3D?line=16'>17</a>\u001b[0m optimizer\u001b[39m.\u001b[39mstep()\n\u001b[0;32m     <a href='vscode-notebook-cell:/c%3A/Users/angel/Source/Python/word2vec/Notebook.ipynb#X40sZmlsZQ%3D%3D?line=18'>19</a>\u001b[0m \u001b[39mif\u001b[39;00m batch \u001b[39m%\u001b[39m \u001b[39m10\u001b[39m \u001b[39m==\u001b[39m \u001b[39m0\u001b[39m:\n",
      "File \u001b[1;32mc:\\Users\\angel\\anaconda3\\lib\\site-packages\\torch\\_tensor.py:487\u001b[0m, in \u001b[0;36mTensor.backward\u001b[1;34m(self, gradient, retain_graph, create_graph, inputs)\u001b[0m\n\u001b[0;32m    477\u001b[0m \u001b[39mif\u001b[39;00m has_torch_function_unary(\u001b[39mself\u001b[39m):\n\u001b[0;32m    478\u001b[0m     \u001b[39mreturn\u001b[39;00m handle_torch_function(\n\u001b[0;32m    479\u001b[0m         Tensor\u001b[39m.\u001b[39mbackward,\n\u001b[0;32m    480\u001b[0m         (\u001b[39mself\u001b[39m,),\n\u001b[1;32m   (...)\u001b[0m\n\u001b[0;32m    485\u001b[0m         inputs\u001b[39m=\u001b[39minputs,\n\u001b[0;32m    486\u001b[0m     )\n\u001b[1;32m--> 487\u001b[0m torch\u001b[39m.\u001b[39;49mautograd\u001b[39m.\u001b[39;49mbackward(\n\u001b[0;32m    488\u001b[0m     \u001b[39mself\u001b[39;49m, gradient, retain_graph, create_graph, inputs\u001b[39m=\u001b[39;49minputs\n\u001b[0;32m    489\u001b[0m )\n",
      "File \u001b[1;32mc:\\Users\\angel\\anaconda3\\lib\\site-packages\\torch\\autograd\\__init__.py:197\u001b[0m, in \u001b[0;36mbackward\u001b[1;34m(tensors, grad_tensors, retain_graph, create_graph, grad_variables, inputs)\u001b[0m\n\u001b[0;32m    192\u001b[0m     retain_graph \u001b[39m=\u001b[39m create_graph\n\u001b[0;32m    194\u001b[0m \u001b[39m# The reason we repeat same the comment below is that\u001b[39;00m\n\u001b[0;32m    195\u001b[0m \u001b[39m# some Python versions print out the first line of a multi-line function\u001b[39;00m\n\u001b[0;32m    196\u001b[0m \u001b[39m# calls in the traceback and some print out the last line\u001b[39;00m\n\u001b[1;32m--> 197\u001b[0m Variable\u001b[39m.\u001b[39;49m_execution_engine\u001b[39m.\u001b[39;49mrun_backward(  \u001b[39m# Calls into the C++ engine to run the backward pass\u001b[39;49;00m\n\u001b[0;32m    198\u001b[0m     tensors, grad_tensors_, retain_graph, create_graph, inputs,\n\u001b[0;32m    199\u001b[0m     allow_unreachable\u001b[39m=\u001b[39;49m\u001b[39mTrue\u001b[39;49;00m, accumulate_grad\u001b[39m=\u001b[39;49m\u001b[39mTrue\u001b[39;49;00m)\n",
      "\u001b[1;31mKeyboardInterrupt\u001b[0m: "
     ]
    }
   ],
   "source": [
    "for epoch in range(10):\n",
    "    for batch, (X, y) in enumerate(dataloader):\n",
    "        X = X.squeeze().to(device)\n",
    "        y = F.one_hot(y, num_classes=len(word_dataset.vocab)).float().to(device)\n",
    "\n",
    "        # Compute prediction error\n",
    "        pred = model(X)\n",
    "\n",
    "        loss = 0\n",
    "        for i in range(len(pred)):\n",
    "            for j in range(context_window * 2):\n",
    "                loss += loss_fn(pred[i], y[i][j])\n",
    "\n",
    "        # Backpropagation\n",
    "        optimizer.zero_grad()\n",
    "        loss.backward()\n",
    "        optimizer.step()\n",
    "\n",
    "        if batch % 10 == 0:\n",
    "            loss, current = loss.item(), (batch + 1) * len(X)\n",
    "            print(f\"loss: {loss:>7f}  [{current:>5d}/{len(word_dataset):>5d}]\")\n"
   ]
  }
 ],
 "metadata": {
  "kernelspec": {
   "display_name": "base",
   "language": "python",
   "name": "python3"
  },
  "language_info": {
   "codemirror_mode": {
    "name": "ipython",
    "version": 3
   },
   "file_extension": ".py",
   "mimetype": "text/x-python",
   "name": "python",
   "nbconvert_exporter": "python",
   "pygments_lexer": "ipython3",
   "version": "3.9.12"
  },
  "orig_nbformat": 4,
  "vscode": {
   "interpreter": {
    "hash": "836a17164be2d590fd74263af58090dad9ab01a479d389a04c38658626e07a4a"
   }
  }
 },
 "nbformat": 4,
 "nbformat_minor": 2
}
